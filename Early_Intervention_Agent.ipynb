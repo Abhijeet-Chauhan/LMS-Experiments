{
  "nbformat": 4,
  "nbformat_minor": 0,
  "metadata": {
    "colab": {
      "provenance": []
    },
    "kernelspec": {
      "name": "python3",
      "display_name": "Python 3"
    },
    "language_info": {
      "name": "python"
    }
  },
  "cells": [
    {
      "cell_type": "code",
      "execution_count": null,
      "metadata": {
        "colab": {
          "base_uri": "https://localhost:8080/"
        },
        "id": "HPU4tj3i6Cho",
        "outputId": "78bf5f60-06f4-40f1-a0b5-a5785fab3d31"
      },
      "outputs": [
        {
          "output_type": "stream",
          "name": "stdout",
          "text": [
            "\u001b[2K     \u001b[90m━━━━━━━━━━━━━━━━━━━━━━━━━━━━━━━━━━━━━━━━\u001b[0m \u001b[32m43.7/43.7 kB\u001b[0m \u001b[31m1.4 MB/s\u001b[0m eta \u001b[36m0:00:00\u001b[0m\n",
            "\u001b[2K   \u001b[90m━━━━━━━━━━━━━━━━━━━━━━━━━━━━━━━━━━━━━━━━\u001b[0m \u001b[32m2.5/2.5 MB\u001b[0m \u001b[31m37.0 MB/s\u001b[0m eta \u001b[36m0:00:00\u001b[0m\n",
            "\u001b[2K   \u001b[90m━━━━━━━━━━━━━━━━━━━━━━━━━━━━━━━━━━━━━━━━\u001b[0m \u001b[32m153.3/153.3 kB\u001b[0m \u001b[31m3.8 MB/s\u001b[0m eta \u001b[36m0:00:00\u001b[0m\n",
            "\u001b[2K   \u001b[90m━━━━━━━━━━━━━━━━━━━━━━━━━━━━━━━━━━━━━━━━\u001b[0m \u001b[32m337.3/337.3 kB\u001b[0m \u001b[31m17.8 MB/s\u001b[0m eta \u001b[36m0:00:00\u001b[0m\n",
            "\u001b[2K   \u001b[90m━━━━━━━━━━━━━━━━━━━━━━━━━━━━━━━━━━━━━━━━\u001b[0m \u001b[32m131.4/131.4 kB\u001b[0m \u001b[31m7.9 MB/s\u001b[0m eta \u001b[36m0:00:00\u001b[0m\n",
            "\u001b[2K   \u001b[90m━━━━━━━━━━━━━━━━━━━━━━━━━━━━━━━━━━━━━━━━\u001b[0m \u001b[32m43.9/43.9 kB\u001b[0m \u001b[31m1.1 MB/s\u001b[0m eta \u001b[36m0:00:00\u001b[0m\n",
            "\u001b[2K   \u001b[90m━━━━━━━━━━━━━━━━━━━━━━━━━━━━━━━━━━━━━━━━\u001b[0m \u001b[32m52.0/52.0 kB\u001b[0m \u001b[31m2.0 MB/s\u001b[0m eta \u001b[36m0:00:00\u001b[0m\n",
            "\u001b[2K   \u001b[90m━━━━━━━━━━━━━━━━━━━━━━━━━━━━━━━━━━━━━━━━\u001b[0m \u001b[32m50.9/50.9 kB\u001b[0m \u001b[31m2.7 MB/s\u001b[0m eta \u001b[36m0:00:00\u001b[0m\n",
            "\u001b[2K   \u001b[90m━━━━━━━━━━━━━━━━━━━━━━━━━━━━━━━━━━━━━━━━\u001b[0m \u001b[32m216.7/216.7 kB\u001b[0m \u001b[31m15.5 MB/s\u001b[0m eta \u001b[36m0:00:00\u001b[0m\n",
            "\u001b[?25h"
          ]
        }
      ],
      "source": [
        "!pip install -qU langchain-groq langchain langchain-community langgraph qdrant-client sentence-transformers"
      ]
    },
    {
      "cell_type": "code",
      "source": [
        "import os\n",
        "import json\n",
        "from google.colab import userdata\n",
        "from langchain_groq import ChatGroq\n",
        "from langgraph.graph import END, StateGraph\n",
        "from typing import TypedDict, List, Dict, Any"
      ],
      "metadata": {
        "id": "sSn18TiY6Frl"
      },
      "execution_count": null,
      "outputs": []
    },
    {
      "cell_type": "code",
      "source": [
        "os.environ[\"GROQ_API_KEY\"] = userdata.get('GROQ_API_KEY')\n",
        "llm = ChatGroq(temperature=0, model_name=\"openai/gpt-oss-120b\")"
      ],
      "metadata": {
        "id": "Qd9dDE4n6Hc0"
      },
      "execution_count": null,
      "outputs": []
    },
    {
      "cell_type": "code",
      "source": [
        "student_data_alex = {\n",
        "    \"student_name\": \"Alex Johnson\",\n",
        "    \"recent_grades\": [65, 72, 58, 61],\n",
        "    \"assignment_completion_rate\": 0.95,\n",
        "    \"class_participation_events\": 2,\n",
        "    \"last_login\": \"5 days ago\"\n",
        "}\n",
        "\n",
        "student_data_maria = {\n",
        "    \"student_name\": \"Maria Garcia\",\n",
        "    \"recent_grades\": [92, 88, 95, 91],\n",
        "    \"assignment_completion_rate\": 0.70,\n",
        "    \"class_participation_events\": 8,\n",
        "    \"last_login\": \"1 day ago\"\n",
        "}"
      ],
      "metadata": {
        "id": "lSdOIYmw6NlE"
      },
      "execution_count": null,
      "outputs": []
    },
    {
      "cell_type": "code",
      "source": [
        "class AnalysisState(TypedDict):\n",
        "    student_data: Dict[str, Any]\n",
        "    analysis_findings: List[str]\n",
        "    core_problem: str\n",
        "    recommendations: Dict[str, Any]\n",
        "\n",
        "\n",
        "def fetch_student_data(state):\n",
        "    print(\"---NODE: Fetching Student Data---\")\n",
        "    student_data = state[\"student_data\"]\n",
        "    return {\"student_data\": student_data}\n",
        "\n",
        "# Analyze Raw Data\n",
        "def analyze_data(state):\n",
        "    print(\"---NODE: Analyzing Data---\")\n",
        "    student_data = state[\"student_data\"]\n",
        "    findings = []\n",
        "\n",
        "    # Rule 1: Check average grade\n",
        "    avg_grade = sum(student_data[\"recent_grades\"]) / len(student_data[\"recent_grades\"])\n",
        "    if avg_grade < 70:\n",
        "        findings.append(f\"The student's average grade is low ({avg_grade:.0f}%).\")\n",
        "\n",
        "    # Rule 2: Check assignment completion\n",
        "    if student_data[\"assignment_completion_rate\"] < 0.8:\n",
        "        findings.append(f\"The assignment completion rate is low ({student_data['assignment_completion_rate'] * 100:.0f}%).\")\n",
        "\n",
        "    # Rule 3: Check engagement signals\n",
        "    if student_data[\"class_participation_events\"] < 3:\n",
        "        findings.append(\"Class participation is very low.\")\n",
        "    if \"days ago\" in student_data[\"last_login\"] and int(student_data[\"last_login\"].split(\" \")[0]) > 3:\n",
        "        findings.append(\"The student has not logged in recently.\")\n",
        "\n",
        "    print(f\"Findings: {findings}\")\n",
        "    return {\"analysis_findings\": findings}\n",
        "\n",
        "# Identify the Core Problem\n",
        "# This node uses the LLM to synthesize the findings into a single, high-level problem statement.\n",
        "def identify_core_problem(state):\n",
        "    print(\"---NODE: Identifying Core Problem---\")\n",
        "    findings = state[\"analysis_findings\"]\n",
        "\n",
        "    if not findings:\n",
        "        return {\"core_problem\": \"No significant issues identified. Student is performing well.\"}\n",
        "\n",
        "    prompt = f\"\"\"\n",
        "    Based on the following analytical findings about a student, synthesize them into a single, core problem statement.\n",
        "    The problem statement should be a concise summary of the root cause.\n",
        "\n",
        "    Analytical Findings:\n",
        "    - {\"\\n- \".join(findings)}\n",
        "\n",
        "    Core Problem Statement:\n",
        "    \"\"\"\n",
        "\n",
        "    response = llm.invoke(prompt)\n",
        "    problem = response.content\n",
        "    print(f\"Identified Problem: {problem}\")\n",
        "    return {\"core_problem\": problem}\n",
        "\n",
        "# Generate Actionable Recommendations\n",
        "# This node takes the core problem and uses the LLM to suggest concrete actions for the teacher.\n",
        "def generate_recommendations(state):\n",
        "    print(\"---NODE: Generating Recommendations---\")\n",
        "    problem = state[\"core_problem\"]\n",
        "    student_name = state[\"student_data\"][\"student_name\"]\n",
        "\n",
        "    if \"No significant issues\" in problem:\n",
        "        return {\"recommendations\": {\"summary\": \"No intervention needed.\", \"steps\": [\"Acknowledge student's good work.\"] }}\n",
        "\n",
        "    prompt = f\"\"\"\n",
        "    You are an expert educational strategist. For a student named {student_name}, the core problem identified is:\n",
        "    \"{problem}\"\n",
        "\n",
        "    Based on this problem, generate a short, actionable intervention plan for the teacher.\n",
        "    Provide your response as a JSON object with two keys: \"summary\" (a one-sentence summary of the plan) and \"steps\" (a list of 2-3 concrete, actionable steps the teacher can take).\n",
        "\n",
        "    Example Format:\n",
        "    {{\n",
        "        \"summary\": \"A brief summary of the intervention strategy.\",\n",
        "        \"steps\": [\n",
        "            \"First concrete action step.\",\n",
        "            \"Second concrete action step.\",\n",
        "            \"Third concrete action step.\"\n",
        "        ]\n",
        "    }}\n",
        "\n",
        "    JSON Response:\n",
        "    \"\"\"\n",
        "\n",
        "    response = llm.invoke(prompt)\n",
        "    recommendations = json.loads(response.content)\n",
        "    print(f\"Generated Recommendations: {recommendations}\")\n",
        "    return {\"recommendations\": recommendations}"
      ],
      "metadata": {
        "id": "1kfUSA3S6VR8"
      },
      "execution_count": null,
      "outputs": []
    },
    {
      "cell_type": "code",
      "source": [
        "workflow = StateGraph(AnalysisState)\n",
        "\n",
        "workflow.add_node(\"fetch_student_data\", fetch_student_data)\n",
        "workflow.add_node(\"analyze_data\", analyze_data)\n",
        "workflow.add_node(\"identify_core_problem\", identify_core_problem)\n",
        "workflow.add_node(\"generate_recommendations\", generate_recommendations)\n",
        "\n",
        "workflow.set_entry_point(\"fetch_student_data\")\n",
        "workflow.add_edge(\"fetch_student_data\", \"analyze_data\")\n",
        "workflow.add_edge(\"analyze_data\", \"identify_core_problem\")\n",
        "workflow.add_edge(\"identify_core_problem\", \"generate_recommendations\")\n",
        "workflow.add_edge(\"generate_recommendations\", END)\n",
        "\n",
        "\n",
        "app = workflow.compile()\n"
      ],
      "metadata": {
        "id": "UKNtdhom6spV"
      },
      "execution_count": null,
      "outputs": []
    },
    {
      "cell_type": "code",
      "source": [
        "app"
      ],
      "metadata": {
        "colab": {
          "base_uri": "https://localhost:8080/",
          "height": 548
        },
        "id": "CuDwm1ZI6y4s",
        "outputId": "ea556783-99c7-47ed-c017-83c160a24f86"
      },
      "execution_count": null,
      "outputs": [
        {
          "output_type": "execute_result",
          "data": {
            "text/plain": [
              "<langgraph.graph.state.CompiledStateGraph object at 0x7dbed4792cc0>"
            ],
            "image/png": "[encoded data removed]"
          },
          "metadata": {},
          "execution_count": 7
        }
      ]
    },
    {
      "cell_type": "code",
      "source": [
        "print(\"RUNNING ANALYSIS FOR ALEX\")\n",
        "inputs1 = {\"student_data\": student_data_alex}\n",
        "result1 = app.invoke(inputs1)\n",
        "\n",
        "print(\"\\nFINAL RECOMMENDATION FOR ALEX\")\n",
        "print(f\"Summary: {result1['recommendations']['summary']}\")\n",
        "for i, step in enumerate(result1['recommendations']['steps']):\n",
        "    print(f\"{i+1}. {step}\")\n",
        "\n",
        "print(\"\\n\\n================================\\n\\n\")\n",
        "\n",
        "#Maria (Good grades but low completion)\n",
        "print(\"RUNNING ANALYSIS FOR MARIA\")\n",
        "inputs2 = {\"student_data\": student_data_maria}\n",
        "result2 = app.invoke(inputs2)\n",
        "\n",
        "print(\"\\nFINAL RECOMMENDATION FOR MARIA \")\n",
        "print(f\"Summary: {result2['recommendations']['summary']}\")\n",
        "for i, step in enumerate(result2['recommendations']['steps']):\n",
        "    print(f\"{i+1}. {step}\")"
      ],
      "metadata": {
        "colab": {
          "base_uri": "https://localhost:8080/"
        },
        "id": "mizT0ha26ziM",
        "outputId": "ae5f46a0-39f6-4d80-d3ac-ded3d623f4ac"
      },
      "execution_count": null,
      "outputs": [
        {
          "output_type": "stream",
          "name": "stdout",
          "text": [
            "RUNNING ANALYSIS FOR ALEX\n",
            "---NODE: Fetching Student Data---\n",
            "---NODE: Analyzing Data---\n",
            "Findings: [\"The student's average grade is low (64%).\", 'Class participation is very low.', 'The student has not logged in recently.']\n",
            "---NODE: Identifying Core Problem---\n",
            "Identified Problem: **Core Problem Statement:**  \n",
            "The student's insufficient engagement—evidenced by infrequent class participation and recent lack of login—has led to poor academic performance, reflected in a low average grade of 64%.\n",
            "---NODE: Generating Recommendations---\n",
            "Generated Recommendations: {'summary': \"Increase Alex's engagement through personalized outreach, structured participation incentives, and targeted support sessions.\", 'steps': ['Send a personalized email or message to Alex offering a brief one‑on‑one check‑in to discuss any barriers to participation and set a short‑term goal for class involvement.', 'Implement a participation rubric that awards small points for any form of contribution (e.g., answering a question, posting in the forum, or submitting a quick reflection), and track these points publicly to motivate consistent engagement.', 'Schedule a weekly 15‑minute tutoring or study‑hall slot focused on the topics where Alex is struggling, and require attendance as part of the participation grade.']}\n",
            "\n",
            "FINAL RECOMMENDATION FOR ALEX\n",
            "Summary: Increase Alex's engagement through personalized outreach, structured participation incentives, and targeted support sessions.\n",
            "1. Send a personalized email or message to Alex offering a brief one‑on‑one check‑in to discuss any barriers to participation and set a short‑term goal for class involvement.\n",
            "2. Implement a participation rubric that awards small points for any form of contribution (e.g., answering a question, posting in the forum, or submitting a quick reflection), and track these points publicly to motivate consistent engagement.\n",
            "3. Schedule a weekly 15‑minute tutoring or study‑hall slot focused on the topics where Alex is struggling, and require attendance as part of the participation grade.\n",
            "\n",
            "\n",
            "================================\n",
            "\n",
            "\n",
            "RUNNING ANALYSIS FOR MARIA\n",
            "---NODE: Fetching Student Data---\n",
            "---NODE: Analyzing Data---\n",
            "Findings: ['The assignment completion rate is low (70%).']\n",
            "---NODE: Identifying Core Problem---\n",
            "Identified Problem: **Core Problem Statement:**  \n",
            "The student consistently fails to complete assignments, resulting in a low completion rate of only 70%.\n",
            "---NODE: Generating Recommendations---\n",
            "Generated Recommendations: {'summary': \"Implement structured support and accountability to boost Maria's assignment completion rate.\", 'steps': ['Set up a weekly check‑in meeting where Maria reviews upcoming assignments, sets specific goals, and reports progress to the teacher.', 'Provide a clear, visual tracking sheet (e.g., a checklist or digital tracker) that marks each assignment as \"started,\" \"in progress,\" and \"completed,\" and review it together during check‑ins.', 'Introduce short, timed work sessions (10‑15 minutes) in class or via a virtual platform, followed by immediate feedback, to help Maria build momentum and reduce procrastination.']}\n",
            "\n",
            "FINAL RECOMMENDATION FOR MARIA \n",
            "Summary: Implement structured support and accountability to boost Maria's assignment completion rate.\n",
            "1. Set up a weekly check‑in meeting where Maria reviews upcoming assignments, sets specific goals, and reports progress to the teacher.\n",
            "2. Provide a clear, visual tracking sheet (e.g., a checklist or digital tracker) that marks each assignment as \"started,\" \"in progress,\" and \"completed,\" and review it together during check‑ins.\n",
            "3. Introduce short, timed work sessions (10‑15 minutes) in class or via a virtual platform, followed by immediate feedback, to help Maria build momentum and reduce procrastination.\n"
          ]
        }
      ]
    },
    {
      "cell_type": "code",
      "source": [],
      "metadata": {
        "id": "AUxhF0Bw6-Il"
      },
      "execution_count": null,
      "outputs": []
    }
  ]
}