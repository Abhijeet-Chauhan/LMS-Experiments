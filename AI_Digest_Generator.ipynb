{
  "nbformat": 4,
  "nbformat_minor": 0,
  "metadata": {
    "colab": {
      "provenance": []
    },
    "kernelspec": {
      "name": "python3",
      "display_name": "Python 3"
    },
    "language_info": {
      "name": "python"
    }
  },
  "cells": [
    {
      "cell_type": "code",
      "execution_count": null,
      "metadata": {
        "colab": {
          "base_uri": "https://localhost:8080/"
        },
        "id": "9G0Na9kf8nRt",
        "outputId": "caeda28d-35f5-482c-f923-658ee347bb20"
      },
      "outputs": [
        {
          "output_type": "stream",
          "name": "stdout",
          "text": [
            "\u001b[2K     \u001b[90m━━━━━━━━━━━━━━━━━━━━━━━━━━━━━━━━━━━━━━━━\u001b[0m \u001b[32m43.7/43.7 kB\u001b[0m \u001b[31m1.5 MB/s\u001b[0m eta \u001b[36m0:00:00\u001b[0m\n",
            "\u001b[2K   \u001b[90m━━━━━━━━━━━━━━━━━━━━━━━━━━━━━━━━━━━━━━━━\u001b[0m \u001b[32m2.5/2.5 MB\u001b[0m \u001b[31m40.2 MB/s\u001b[0m eta \u001b[36m0:00:00\u001b[0m\n",
            "\u001b[2K   \u001b[90m━━━━━━━━━━━━━━━━━━━━━━━━━━━━━━━━━━━━━━━━\u001b[0m \u001b[32m153.3/153.3 kB\u001b[0m \u001b[31m7.7 MB/s\u001b[0m eta \u001b[36m0:00:00\u001b[0m\n",
            "\u001b[2K   \u001b[90m━━━━━━━━━━━━━━━━━━━━━━━━━━━━━━━━━━━━━━━━\u001b[0m \u001b[32m131.4/131.4 kB\u001b[0m \u001b[31m8.2 MB/s\u001b[0m eta \u001b[36m0:00:00\u001b[0m\n",
            "\u001b[2K   \u001b[90m━━━━━━━━━━━━━━━━━━━━━━━━━━━━━━━━━━━━━━━━\u001b[0m \u001b[32m43.9/43.9 kB\u001b[0m \u001b[31m1.8 MB/s\u001b[0m eta \u001b[36m0:00:00\u001b[0m\n",
            "\u001b[2K   \u001b[90m━━━━━━━━━━━━━━━━━━━━━━━━━━━━━━━━━━━━━━━━\u001b[0m \u001b[32m52.0/52.0 kB\u001b[0m \u001b[31m2.1 MB/s\u001b[0m eta \u001b[36m0:00:00\u001b[0m\n",
            "\u001b[2K   \u001b[90m━━━━━━━━━━━━━━━━━━━━━━━━━━━━━━━━━━━━━━━━\u001b[0m \u001b[32m50.9/50.9 kB\u001b[0m \u001b[31m3.2 MB/s\u001b[0m eta \u001b[36m0:00:00\u001b[0m\n",
            "\u001b[2K   \u001b[90m━━━━━━━━━━━━━━━━━━━━━━━━━━━━━━━━━━━━━━━━\u001b[0m \u001b[32m216.7/216.7 kB\u001b[0m \u001b[31m13.3 MB/s\u001b[0m eta \u001b[36m0:00:00\u001b[0m\n",
            "\u001b[?25h"
          ]
        }
      ],
      "source": [
        "!pip install -qU langchain-groq langchain langchain-community langgraph"
      ]
    },
    {
      "cell_type": "code",
      "source": [
        "import os\n",
        "import json\n",
        "from google.colab import userdata\n",
        "from langchain_groq import ChatGroq\n",
        "from langgraph.graph import END, StateGraph\n",
        "from typing import TypedDict, List, Dict, Any"
      ],
      "metadata": {
        "id": "EoNdbud-9Cue"
      },
      "execution_count": null,
      "outputs": []
    },
    {
      "cell_type": "code",
      "source": [
        "os.environ[\"GROQ_API_KEY\"] = userdata.get('GROQ_API_KEY')\n",
        "llm = ChatGroq(temperature=0.7, model_name=\"openai/gpt-oss-120b\")"
      ],
      "metadata": {
        "id": "ocNO-Ga29Hrs"
      },
      "execution_count": null,
      "outputs": []
    },
    {
      "cell_type": "code",
      "source": [
        "student_weekly_data = {\n",
        "    \"student_name\": \"Alex\",\n",
        "    \"course_name\": \"Trigonometry\",\n",
        "    \"module_completed\": \"Module 3: Sine and Cosine Functions\",\n",
        "    \"quiz_score\": 85, #  good score\n",
        "    \"time_spent_hours\": 4.5, #  below the average of 5 hours\n",
        "    \"assignments_submitted\": 2,\n",
        "    \"assignments_missed\": 1, #  key point to mention\n",
        "    \"lowest_performing_skill\": \"Word Problems\"\n",
        "}"
      ],
      "metadata": {
        "id": "vi4dct6H9Mec"
      },
      "execution_count": null,
      "outputs": []
    },
    {
      "cell_type": "code",
      "source": [
        "class DigestGenerationState(TypedDict):\n",
        "    raw_data: Dict[str, Any]\n",
        "    bullet_points: str\n",
        "    synthesized_paragraph: str\n",
        "    final_digest: Dict[str, str]\n",
        "\n",
        "# --- Node: Generate Bullet Points ---\n",
        "def generate_bullet_points(state):\n",
        "    print(\"---NODE: Generating Bullet Points---\")\n",
        "    raw_data = state[\"raw_data\"]\n",
        "\n",
        "    prompt = f\"\"\"\n",
        "    Based on the following student data, generate a list of 3-4 simple, factual bullet points summarizing the week.\n",
        "    Focus on achievements, struggles, and effort.\n",
        "\n",
        "    Student Data:\n",
        "    {json.dumps(raw_data, indent=2)}\n",
        "\n",
        "    Summary Bullet Points:\n",
        "    \"\"\"\n",
        "\n",
        "    response = llm.invoke(prompt)\n",
        "    bullet_points = response.content\n",
        "    print(f\"Generated Bullet Points:\\n{bullet_points}\")\n",
        "    return {\"bullet_points\": bullet_points}\n",
        "\n",
        "# --- Node : Synthesize into a Paragraph ---\n",
        "def synthesize_paragraph(state):\n",
        "    print(\"---NODE: Synthesizing Paragraph---\")\n",
        "    bullet_points = state[\"bullet_points\"]\n",
        "    student_name = state[\"raw_data\"][\"student_name\"]\n",
        "\n",
        "    prompt = f\"\"\"\n",
        "    You are a helpful school assistant writing a weekly update for a parent.\n",
        "    Rewrite the following bullet points about a student named {student_name} into a single, supportive, and easy-to-read paragraph.\n",
        "    Maintain a positive and encouraging tone, but be clear about any areas for improvement.\n",
        "\n",
        "    Bullet Points:\n",
        "    {bullet_points}\n",
        "\n",
        "    Synthesized Paragraph:\n",
        "    \"\"\"\n",
        "\n",
        "    response = llm.invoke(prompt)\n",
        "    paragraph = response.content\n",
        "    print(f\"Synthesized Paragraph: {paragraph}\")\n",
        "    return {\"synthesized_paragraph\": paragraph}\n",
        "\n",
        "# --- Node: Generate an Actionable Tip ---\n",
        "def generate_actionable_tip(state):\n",
        "    print(\"---NODE: Generating Actionable Tip---\")\n",
        "    paragraph = state[\"synthesized_paragraph\"]\n",
        "    student_name = state[\"raw_data\"][\"student_name\"]\n",
        "\n",
        "    prompt = f\"\"\"\n",
        "    Based on the following weekly summary for a student named {student_name}, what is one simple, positive, and actionable tip you can provide to the parent to help support their child this week?\n",
        "\n",
        "    Summary:\n",
        "    \"{paragraph}\"\n",
        "\n",
        "    Actionable Tip:\n",
        "    \"\"\"\n",
        "\n",
        "    response = llm.invoke(prompt)\n",
        "    tip = response.content\n",
        "    print(f\"Generated Tip: {tip}\")\n",
        "    final_digest = {\n",
        "        \"summary_paragraph\": paragraph,\n",
        "        \"suggested_support\": tip\n",
        "    }\n",
        "    return {\"final_digest\": final_digest}"
      ],
      "metadata": {
        "id": "-lJNxp4n9Uh0"
      },
      "execution_count": null,
      "outputs": []
    },
    {
      "cell_type": "code",
      "source": [
        "workflow = StateGraph(DigestGenerationState)\n",
        "\n",
        "workflow.add_node(\"generate_bullet_points\", generate_bullet_points)\n",
        "workflow.add_node(\"synthesize_paragraph\", synthesize_paragraph)\n",
        "workflow.add_node(\"generate_actionable_tip\", generate_actionable_tip)\n",
        "\n",
        "workflow.set_entry_point(\"generate_bullet_points\")\n",
        "workflow.add_edge(\"generate_bullet_points\", \"synthesize_paragraph\")\n",
        "workflow.add_edge(\"synthesize_paragraph\", \"generate_actionable_tip\")\n",
        "workflow.add_edge(\"generate_actionable_tip\", END)\n",
        "\n",
        "app = workflow.compile()"
      ],
      "metadata": {
        "id": "lVWA5uI59j4c"
      },
      "execution_count": null,
      "outputs": []
    },
    {
      "cell_type": "code",
      "source": [
        "app"
      ],
      "metadata": {
        "id": "-ykqJ4PU9n38",
        "outputId": "da1ff82d-1421-48f9-edec-f0d836da7180",
        "colab": {
          "base_uri": "https://localhost:8080/",
          "height": 449
        }
      },
      "execution_count": null,
      "outputs": [
        {
          "output_type": "execute_result",
          "data": {
            "text/plain": [
              "<langgraph.graph.state.CompiledStateGraph object at 0x7d276c645460>"
            ],
            "image/png": "[encoded data removed]"
          },
          "metadata": {},
          "execution_count": 8
        }
      ]
    },
    {
      "cell_type": "code",
      "source": [
        "print(\"--- RUNNING AI DIGEST GENERATION AGENT ---\")\n",
        "inputs = {\"raw_data\": student_weekly_data}\n",
        "result = app.invoke(inputs)\n",
        "\n",
        "print(\"\\n\\n================================\\n\")\n",
        "print(\"--- FINAL GENERATED DIGEST FOR PARENT DASHBOARD ---\")\n",
        "print(json.dumps(result['final_digest'], indent=2))"
      ],
      "metadata": {
        "id": "ELdX6_Nh9obc",
        "outputId": "0677ff5d-cca3-4744-a5dd-9d36ee64c9ba",
        "colab": {
          "base_uri": "https://localhost:8080/"
        }
      },
      "execution_count": null,
      "outputs": [
        {
          "output_type": "stream",
          "name": "stdout",
          "text": [
            "--- RUNNING AI DIGEST GENERATION AGENT ---\n",
            "---NODE: Generating Bullet Points---\n",
            "Generated Bullet Points:\n",
            "- Completed **Module 3: Sine and Cosine Functions** and earned an **85 %** on the quiz.  \n",
            "- Spent **4.5 hours** studying, submitting **2 assignments** and missing **1**.  \n",
            "- Demonstrated solid effort overall, but **word‑problem skills** remain the weakest area.\n",
            "---NODE: Synthesizing Paragraph---\n",
            "Synthesized Paragraph: Alex has successfully completed Module 3 on Sine and Cosine Functions, earning a solid 85 % on the quiz—a clear sign of his growing understanding of trigonometric concepts. Over the past week he devoted 4.5 hours to studying, turned in two assignments on time, and missed only one, showing consistent effort and good time‑management skills. While his overall performance is commendable, we’ve noticed that word‑problem solving remains his weakest area; focusing a little extra practice on translating real‑world scenarios into mathematical equations will help him strengthen this skill and boost his confidence even further.\n",
            "---NODE: Generating Actionable Tip---\n",
            "Generated Tip: **Tip for the week:** Spend just 10 minutes a day together turning a real‑world situation (like a sports score, a recipe, or a travel plan) into a simple word problem, then have Alex write the corresponding equation and solve it. Celebrate each correct translation—this focused, short practice will turn word‑problem solving into a habit and boost his confidence without adding extra workload.\n",
            "\n",
            "\n",
            "================================\n",
            "\n",
            "--- FINAL GENERATED DIGEST FOR PARENT DASHBOARD ---\n",
            "{\n",
            "  \"summary_paragraph\": \"Alex has successfully completed Module\\u202f3 on Sine and Cosine Functions, earning a solid 85\\u202f% on the quiz\\u2014a clear sign of his growing understanding of trigonometric concepts. Over the past week he devoted 4.5\\u202fhours to studying, turned in two assignments on time, and missed only one, showing consistent effort and good time\\u2011management skills. While his overall performance is commendable, we\\u2019ve noticed that word\\u2011problem solving remains his weakest area; focusing a little extra practice on translating real\\u2011world scenarios into mathematical equations will help him strengthen this skill and boost his confidence even further.\",\n",
            "  \"suggested_support\": \"**Tip for the week:**\\u202fSpend just 10\\u202fminutes a day together turning a real\\u2011world situation (like a sports score, a recipe, or a travel plan) into a simple word problem, then have Alex write the corresponding equation and solve it. Celebrate each correct translation\\u2014this focused, short practice will turn word\\u2011problem solving into a habit and boost his confidence without adding extra workload.\"\n",
            "}\n"
          ]
        }
      ]
    },
    {
      "cell_type": "code",
      "source": [],
      "metadata": {
        "id": "ENT7-cjb9sLs"
      },
      "execution_count": null,
      "outputs": []
    }
  ]
}