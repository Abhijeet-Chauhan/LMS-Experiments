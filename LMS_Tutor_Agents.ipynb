{
  "nbformat": 4,
  "nbformat_minor": 0,
  "metadata": {
    "colab": {
      "provenance": []
    },
    "kernelspec": {
      "name": "python3",
      "display_name": "Python 3"
    },
    "language_info": {
      "name": "python"
    }
  },
  "cells": [
    {
      "cell_type": "code",
      "source": [
        "!pip install -qU langchain-groq langchain langchain-community langgraph qdrant-client sentence-transformers"
      ],
      "metadata": {
        "id": "OCPZxk_91ZDU"
      },
      "execution_count": null,
      "outputs": []
    },
    {
      "cell_type": "code",
      "source": [
        "import os\n",
        "from google.colab import userdata\n",
        "from langchain_groq import ChatGroq\n",
        "from langchain_community.embeddings import HuggingFaceEmbeddings\n",
        "from langchain.text_splitter import RecursiveCharacterTextSplitter\n",
        "from langchain.chains.combine_documents import create_stuff_documents_chain\n",
        "from langchain_community.vectorstores import Qdrant\n",
        "from langchain_core.prompts import ChatPromptTemplate\n",
        "from langchain_core.documents import Document\n",
        "from langgraph.graph import END, StateGraph\n",
        "from typing import List, TypedDict\n",
        "\n",
        "os.environ[\"GROQ_API_KEY\"] = userdata.get('GROQ_API_KEY')\n",
        "\n",
        "llm = ChatGroq(temperature=0, model_name=\"openai/gpt-oss-120b\")\n",
        "\n",
        "\n",
        "embeddings = HuggingFaceEmbeddings(model_name=\"all-MiniLM-L6-v2\")\n",
        "\n",
        "print(\"Models and API keys configured successfully!\")\n",
        "print(\"Embedding model: all-MiniLM-L6-v2 (running locally)\")"
      ],
      "metadata": {
        "colab": {
          "base_uri": "https://localhost:8080/"
        },
        "id": "k6K5JBrH1eYD",
        "outputId": "4c0addfd-c4f5-46bf-ca15-6d767d3726e6"
      },
      "execution_count": null,
      "outputs": [
        {
          "output_type": "stream",
          "name": "stdout",
          "text": [
            "Models and API keys configured successfully!\n",
            "Embedding model: all-MiniLM-L6-v2 (running locally)\n"
          ]
        }
      ]
    },
    {
      "cell_type": "code",
      "source": [
        "import qdrant_client\n",
        "from qdrant_client.models import VectorParams, Distance\n",
        "\n",
        "client = qdrant_client.QdrantClient(\":memory:\")\n",
        "\n",
        "client.recreate_collection(\n",
        "    collection_name=\"brainfog_lms_docs\",\n",
        "    vectors_config=VectorParams(size=384, distance=Distance.COSINE),\n",
        ")\n",
        "\n",
        "vectorstore = Qdrant(\n",
        "    client=client,\n",
        "    collection_name=\"brainfog_lms_docs\",\n",
        "    embeddings=embeddings,\n",
        ")\n",
        "\n",
        "retriever = vectorstore.as_retriever()\n",
        "\n",
        "print(\"In-memory Qdrant vector store and collection 'brainfog_lms_docs' initialized successfully!\")"
      ],
      "metadata": {
        "colab": {
          "base_uri": "https://localhost:8080/"
        },
        "id": "WJL7oCMI1jzk",
        "outputId": "5a891b72-c11d-45b9-b3ad-4d323f0606e2"
      },
      "execution_count": null,
      "outputs": [
        {
          "output_type": "stream",
          "name": "stdout",
          "text": [
            "In-memory Qdrant vector store and collection 'brainfog_lms_docs' initialized successfully!\n"
          ]
        },
        {
          "output_type": "stream",
          "name": "stderr",
          "text": [
            "/tmp/ipython-input-2586142589.py:6: DeprecationWarning: `recreate_collection` method is deprecated and will be removed in the future. Use `collection_exists` to check collection existence and `create_collection` instead.\n",
            "  client.recreate_collection(\n"
          ]
        }
      ]
    },
    {
      "cell_type": "code",
      "source": [
        "sample_syllabus_text = \"\"\"\n",
        "Introduction to Photosynthesis\n",
        "\n",
        "Photosynthesis is the process used by plants, algae, and certain bacteria to convert light energy into chemical energy, through a process that converts carbon dioxide and water into sugars and oxygen. The overall chemical equation for photosynthesis is:\n",
        "6CO2 + 6H2O + Light Energy → C6H12O6 + 6O2\n",
        "\n",
        "Key Components:\n",
        "1.  Chlorophyll: This is the green pigment located in chloroplasts that absorbs light energy.\n",
        "2.  Chloroplasts: These are the organelles within plant cells where photosynthesis takes place.\n",
        "3.  Stomata: These are small pores on the surface of leaves through which carbon dioxide enters and oxygen is released.\n",
        "\n",
        "Two Main Stages:\n",
        "1.  Light-Dependent Reactions: Occur in the thylakoid membranes of chloroplasts. Light energy is captured by chlorophyll and used to split water molecules (photolysis). This produces oxygen (O2), ATP, and NADPH. ATP and NADPH are energy-carrying molecules.\n",
        "2.  Light-Independent Reactions (Calvin Cycle): Occur in the stroma of the chloroplasts. These reactions do not directly require light. They use the ATP and NADPH from the light-dependent reactions to convert carbon dioxide into glucose (C6H12O6), a sugar that stores chemical energy.\n",
        "\"\"\"\n",
        "\n",
        "text_splitter = RecursiveCharacterTextSplitter(chunk_size=500, chunk_overlap=50)\n",
        "docs_list = text_splitter.split_text(sample_syllabus_text)\n",
        "\n",
        "documents = [Document(page_content=chunk) for chunk in docs_list]\n",
        "\n",
        "vectorstore.add_documents(documents)\n",
        "\n",
        "print(f\" Syllabus processed and added to the vector store as {len(documents)} chunks.\")"
      ],
      "metadata": {
        "colab": {
          "base_uri": "https://localhost:8080/"
        },
        "id": "pcI9fatc1nTE",
        "outputId": "13781510-b20d-4386-c803-768503096126"
      },
      "execution_count": null,
      "outputs": [
        {
          "output_type": "stream",
          "name": "stdout",
          "text": [
            " Syllabus processed and added to the vector store as 4 chunks.\n"
          ]
        }
      ]
    },
    {
      "cell_type": "code",
      "source": [
        "class GraphState(TypedDict):\n",
        "    question: str\n",
        "    documents: List[str]\n",
        "\n",
        "def retrieve_documents(state):\n",
        "    print(\"---NODE: Retrieving Documents---\")\n",
        "    question = state[\"question\"]\n",
        "    documents = retriever.invoke(question)\n",
        "    return {\"documents\": [doc.page_content for doc in documents], \"question\": question}\n",
        "\n",
        "def grade_documents(state):\n",
        "    print(\"---NODE: Grading Documents---\")\n",
        "    question = state[\"question\"]\n",
        "    documents = state[\"documents\"]\n",
        "\n",
        "    prompt = ChatPromptTemplate.from_messages([\n",
        "        (\"system\", \"You are a grader. Your purpose is to determine if the retrieved documents are relevant to the user's question. Respond with 'yes' or 'no' only.\"),\n",
        "        (\"user\", f\"Retrieved Documents:\\n\\n{documents}\\n\\nUser Question: {question}\")\n",
        "    ])\n",
        "\n",
        "    chain = prompt | llm\n",
        "    response = chain.invoke({\"question\": question, \"documents\": documents})\n",
        "\n",
        "    if \"yes\" in response.content.lower():\n",
        "        print(\"---DECISION: Documents are relevant---\")\n",
        "        return \"generate\"\n",
        "    else:\n",
        "        print(\"---DECISION: Documents are NOT relevant---\")\n",
        "        return \"fallback\"\n",
        "\n",
        "def generate_answer(state):\n",
        "    print(\"---NODE: Generating Answer---\")\n",
        "    question = state[\"question\"]\n",
        "    documents = state[\"documents\"]\n",
        "\n",
        "    prompt = ChatPromptTemplate.from_template(\n",
        "        \"\"\"You are a helpful AI Tutor for a Learning Management System named BrainFog.\n",
        "        Answer the user's question based *only* on the following context. Be concise and clear.\n",
        "        If the context does not contain the answer, state that the information is not available in the provided materials.\n",
        "\n",
        "        Context: {context}\n",
        "        Question: {input}\"\"\"\n",
        "    )\n",
        "\n",
        "    chain = prompt | llm\n",
        "    doc_objects = [Document(page_content=doc) for doc in documents]\n",
        "    answer = chain.invoke({\"input\": question, \"context\": doc_objects})\n",
        "\n",
        "    print(\"---SUCCESS: Generated Answer---\")\n",
        "    return {\"documents\": documents, \"question\": answer.content}\n",
        "\n",
        "def fallback_answer(state):\n",
        "    print(\"---NODE: Fallback - Answering without context---\")\n",
        "    question = state[\"question\"]\n",
        "\n",
        "    prompt = ChatPromptTemplate.from_template(\n",
        "        \"\"\"You are a helpful AI Tutor named BrainFog. A document search failed to find relevant information.\n",
        "        Answer the user's question generally, but explicitly state that the answer is not from their specific course materials.\n",
        "\n",
        "        Question: {input}\"\"\"\n",
        "    )\n",
        "    chain = prompt | llm\n",
        "    answer = chain.invoke({\"input\": question})\n",
        "\n",
        "    print(\"---SUCCESS: Generated Fallback Answer---\")\n",
        "    return {\"documents\": [], \"question\": answer.content}\n",
        "\n",
        "print(\"LangGraph nodes and state defined successfully!\")"
      ],
      "metadata": {
        "colab": {
          "base_uri": "https://localhost:8080/"
        },
        "id": "1V1az8W72A30",
        "outputId": "c15b3a58-f745-4c0b-c09c-1d3b4afe13bb"
      },
      "execution_count": null,
      "outputs": [
        {
          "output_type": "stream",
          "name": "stdout",
          "text": [
            "LangGraph nodes and state defined successfully!\n"
          ]
        }
      ]
    },
    {
      "cell_type": "code",
      "source": [
        "workflow = StateGraph(GraphState)\n",
        "\n",
        "workflow.add_node(\"retrieve\", retrieve_documents)\n",
        "workflow.add_node(\"generate\", generate_answer)\n",
        "workflow.add_node(\"fallback\", fallback_answer)\n",
        "\n",
        "workflow.set_entry_point(\"retrieve\")\n",
        "workflow.add_conditional_edges(\n",
        "    \"retrieve\",\n",
        "    grade_documents,\n",
        "    {\n",
        "        \"generate\": \"generate\",\n",
        "        \"fallback\": \"fallback\",\n",
        "    },\n",
        ")\n",
        "\n",
        "workflow.add_edge(\"generate\", END)\n",
        "workflow.add_edge(\"fallback\", END)\n",
        "\n",
        "\n",
        "app = workflow.compile()\n",
        "\n",
        "print(\" LangGraph compiled successfully!\")"
      ],
      "metadata": {
        "colab": {
          "base_uri": "https://localhost:8080/"
        },
        "id": "9r1P0yvD4uVU",
        "outputId": "39a2c1e8-fe72-4fb8-f122-7682eea72ed6"
      },
      "execution_count": null,
      "outputs": [
        {
          "output_type": "stream",
          "name": "stdout",
          "text": [
            " LangGraph compiled successfully!\n"
          ]
        }
      ]
    },
    {
      "cell_type": "code",
      "source": [
        "app"
      ],
      "metadata": {
        "colab": {
          "base_uri": "https://localhost:8080/",
          "height": 350
        },
        "id": "OD8tZv-u5luM",
        "outputId": "fffe3201-5b1a-4a7e-b324-a1a4231c4ece"
      },
      "execution_count": null,
      "outputs": [
        {
          "output_type": "execute_result",
          "data": {
            "text/plain": [
              "<langgraph.graph.state.CompiledStateGraph object at 0x79f6627a8c80>"
            ],
            "image/png": "[encoded data removed]"
          },
          "metadata": {},
          "execution_count": 48
        }
      ]
    },
    {
      "cell_type": "code",
      "source": [
        "# --- Test Case 1: Relevant Question ---\n",
        "print(\"--- RUNNING TEST CASE 1 ---\")\n",
        "question1 = \"What are the two main stages of photosynthesis?\"\n",
        "inputs1 = {\"question\": question1}\n",
        "result1 = app.invoke(inputs1)\n",
        "print(\"\\n--- FINAL ANSWER ---\")\n",
        "print(result1['question'])\n",
        "\n",
        "\n",
        "print(\"\\n\\n================================\\n\\n\")\n",
        "\n",
        "\n",
        "# --- Test Case 2: Irrelevant Question ---\n",
        "print(\"--- RUNNING TEST CASE 2 ---\")\n",
        "question2 = \"Who was the first president of the United States?\"\n",
        "inputs2 = {\"question\": question2}\n",
        "result2 = app.invoke(inputs2)\n",
        "print(\"\\n--- FINAL ANSWER ---\")\n",
        "print(result2['question'])"
      ],
      "metadata": {
        "colab": {
          "base_uri": "https://localhost:8080/"
        },
        "id": "ILatnrIu48s8",
        "outputId": "5945cb8a-9fb2-477b-f565-874c995a9ec9"
      },
      "execution_count": null,
      "outputs": [
        {
          "output_type": "stream",
          "name": "stdout",
          "text": [
            "--- RUNNING TEST CASE 1 ---\n",
            "---NODE: Retrieving Documents---\n",
            "---NODE: Grading Documents---\n",
            "---DECISION: Documents are relevant---\n",
            "---NODE: Generating Answer---\n",
            "---SUCCESS: Generated Answer---\n",
            "\n",
            "--- FINAL ANSWER ---\n",
            "The two main stages of photosynthesis are:\n",
            "\n",
            "1. **Light‑Dependent Reactions** – occur in the thylakoid membranes and produce O₂, ATP, and NADPH.  \n",
            "2. **Light‑Independent Reactions (Calvin Cycle)** – occur in the stroma and use ATP and NADPH to convert CO₂ into glucose.\n",
            "\n",
            "\n",
            "================================\n",
            "\n",
            "\n",
            "--- RUNNING TEST CASE 2 ---\n",
            "---NODE: Retrieving Documents---\n",
            "---NODE: Grading Documents---\n",
            "---DECISION: Documents are NOT relevant---\n",
            "---NODE: Fallback - Answering without context---\n",
            "---SUCCESS: Generated Fallback Answer---\n",
            "\n",
            "--- FINAL ANSWER ---\n",
            "I wasn’t able to locate this information in your specific course materials, so I’ll answer based on general knowledge.\n",
            "\n",
            "The first President of the United States was **George Washington**, who served from 1789 to 1797.\n"
          ]
        }
      ]
    },
    {
      "cell_type": "code",
      "source": [],
      "metadata": {
        "id": "3MvnlzKH4-2E"
      },
      "execution_count": null,
      "outputs": []
    }
  ]
}