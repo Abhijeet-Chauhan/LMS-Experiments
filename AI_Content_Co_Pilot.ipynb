{
  "nbformat": 4,
  "nbformat_minor": 0,
  "metadata": {
    "colab": {
      "provenance": []
    },
    "kernelspec": {
      "name": "python3",
      "display_name": "Python 3"
    },
    "language_info": {
      "name": "python"
    }
  },
  "cells": [
    {
      "cell_type": "code",
      "execution_count": null,
      "metadata": {
        "colab": {
          "base_uri": "https://localhost:8080/"
        },
        "id": "xXnelGKZ7S8U",
        "outputId": "3ac1647d-51a2-42ab-8629-4f636b2f4391"
      },
      "outputs": [
        {
          "output_type": "stream",
          "name": "stdout",
          "text": [
            "\u001b[2K     \u001b[90m━━━━━━━━━━━━━━━━━━━━━━━━━━━━━━━━━━━━━━━━\u001b[0m \u001b[32m43.7/43.7 kB\u001b[0m \u001b[31m2.0 MB/s\u001b[0m eta \u001b[36m0:00:00\u001b[0m\n",
            "\u001b[2K   \u001b[90m━━━━━━━━━━━━━━━━━━━━━━━━━━━━━━━━━━━━━━━━\u001b[0m \u001b[32m2.5/2.5 MB\u001b[0m \u001b[31m29.9 MB/s\u001b[0m eta \u001b[36m0:00:00\u001b[0m\n",
            "\u001b[2K   \u001b[90m━━━━━━━━━━━━━━━━━━━━━━━━━━━━━━━━━━━━━━━━\u001b[0m \u001b[32m153.3/153.3 kB\u001b[0m \u001b[31m7.7 MB/s\u001b[0m eta \u001b[36m0:00:00\u001b[0m\n",
            "\u001b[2K   \u001b[90m━━━━━━━━━━━━━━━━━━━━━━━━━━━━━━━━━━━━━━━━\u001b[0m \u001b[32m131.4/131.4 kB\u001b[0m \u001b[31m7.0 MB/s\u001b[0m eta \u001b[36m0:00:00\u001b[0m\n",
            "\u001b[2K   \u001b[90m━━━━━━━━━━━━━━━━━━━━━━━━━━━━━━━━━━━━━━━━\u001b[0m \u001b[32m43.9/43.9 kB\u001b[0m \u001b[31m1.6 MB/s\u001b[0m eta \u001b[36m0:00:00\u001b[0m\n",
            "\u001b[2K   \u001b[90m━━━━━━━━━━━━━━━━━━━━━━━━━━━━━━━━━━━━━━━━\u001b[0m \u001b[32m52.0/52.0 kB\u001b[0m \u001b[31m2.8 MB/s\u001b[0m eta \u001b[36m0:00:00\u001b[0m\n",
            "\u001b[2K   \u001b[90m━━━━━━━━━━━━━━━━━━━━━━━━━━━━━━━━━━━━━━━━\u001b[0m \u001b[32m50.9/50.9 kB\u001b[0m \u001b[31m2.8 MB/s\u001b[0m eta \u001b[36m0:00:00\u001b[0m\n",
            "\u001b[2K   \u001b[90m━━━━━━━━━━━━━━━━━━━━━━━━━━━━━━━━━━━━━━━━\u001b[0m \u001b[32m216.7/216.7 kB\u001b[0m \u001b[31m8.5 MB/s\u001b[0m eta \u001b[36m0:00:00\u001b[0m\n",
            "\u001b[?25h"
          ]
        }
      ],
      "source": [
        "!pip install -qU langchain-groq langchain langchain-community langgraph"
      ]
    },
    {
      "cell_type": "code",
      "source": [
        "import os\n",
        "import json\n",
        "from google.colab import userdata\n",
        "from langchain_groq import ChatGroq\n",
        "from langgraph.graph import END, StateGraph\n",
        "from typing import TypedDict, List, Dict, Any"
      ],
      "metadata": {
        "id": "LbVpB_Wc7nPN"
      },
      "execution_count": null,
      "outputs": []
    },
    {
      "cell_type": "code",
      "source": [
        "os.environ[\"GROQ_API_KEY\"] = userdata.get('GROQ_API_KEY')\n",
        "llm = ChatGroq(temperature=0.7, model_name=\"openai/gpt-oss-120b\")"
      ],
      "metadata": {
        "id": "nDKUV0AK7sms"
      },
      "execution_count": null,
      "outputs": []
    },
    {
      "cell_type": "code",
      "source": [
        "course_content_text = \"\"\"\n",
        "The Solar System consists of the Sun and the astronomical objects bound to it by gravity. Of the objects that orbit the Sun directly, the largest are the eight planets, with the remainder being smaller objects, such as the five dwarf planets and small Solar System bodies.\n",
        "\n",
        "The four inner planets are Mercury, Venus, Earth, and Mars. They are called terrestrial planets because they have solid, rocky surfaces. The two largest planets, Jupiter and Saturn, are gas giants, being composed mainly of hydrogen and helium. The two outermost planets, Uranus and Neptune, are ice giants, being composed mostly of substances with relatively high melting points compared with hydrogen and helium, called volatiles, such as water, ammonia, and methane.\n",
        "\n",
        "Mars is often called the 'Red Planet' because of its reddish appearance, which is caused by iron oxide (rust) on its surface. It has two small moons, Phobos and Deimos. Jupiter is the largest planet in the Solar System, more than twice as massive as all the other planets combined. It is famous for its Great Red Spot, a giant storm that has raged for at least 350 years.\n",
        "\"\"\"\n"
      ],
      "metadata": {
        "id": "XgTjTYre7yr0"
      },
      "execution_count": null,
      "outputs": []
    },
    {
      "cell_type": "code",
      "source": [
        "class QuizGenerationState(TypedDict):\n",
        "    content_text: str\n",
        "    key_concepts: List[str]\n",
        "    quiz_questions: List[Dict[str, Any]]\n",
        "    formatted_quiz_json: str\n",
        "\n",
        "# --- Node: Identify Key Concepts ---\n",
        "def identify_key_concepts(state):\n",
        "    print(\"---NODE: Identifying Key Concepts---\")\n",
        "    content_text = state[\"content_text\"]\n",
        "\n",
        "    prompt = f\"\"\"\n",
        "    Based on the following course content, identify the top 3-5 most important, distinct, and testable key concepts or facts.\n",
        "    Present these concepts as a simple list of strings.\n",
        "\n",
        "    Course Content:\n",
        "    \"{content_text}\"\n",
        "\n",
        "    Example Format:\n",
        "    [\"Concept 1\", \"Concept 2\", \"Concept 3\"]\n",
        "\n",
        "    Key Concepts:\n",
        "    \"\"\"\n",
        "\n",
        "    response = llm.invoke(prompt)\n",
        "    concepts = [line.strip().replace('\"', '').replace(',', '') for line in response.content.strip().replace('[', '').replace(']', '').split('\\n') if line.strip()]\n",
        "\n",
        "    print(f\"Identified Concepts: {concepts}\")\n",
        "    return {\"key_concepts\": concepts}\n",
        "\n",
        "# --- Node: Generate Quiz Questions ---\n",
        "def generate_questions(state):\n",
        "    print(\"---NODE: Generating Quiz Questions---\")\n",
        "    content_text = state[\"content_text\"]\n",
        "    concepts = state[\"key_concepts\"]\n",
        "    questions = []\n",
        "\n",
        "    for concept in concepts:\n",
        "        print(f\"  - Generating question for concept: '{concept}'\")\n",
        "        prompt = f\"\"\"\n",
        "        You are an expert quiz creator. Based on the provided course content, create one high-quality multiple-choice question specifically about the following concept: \"{concept}\".\n",
        "\n",
        "        The question should have 4 options, with only one being correct. The incorrect options (distractors) should be plausible but clearly wrong based on the text.\n",
        "\n",
        "        Course Content:\n",
        "        \"{content_text}\"\n",
        "\n",
        "        Format your response as a JSON object with the keys \"question\", \"options\" (a list of 4 strings), and \"answer\" (the correct option text).\n",
        "\n",
        "        JSON Response:\n",
        "        \"\"\"\n",
        "\n",
        "        response = llm.invoke(prompt)\n",
        "        cleaned_response = response.content.strip().replace(\"```json\", \"\").replace(\"```\", \"\")\n",
        "        try:\n",
        "            question_json = json.loads(cleaned_response)\n",
        "            questions.append(question_json)\n",
        "        except json.JSONDecodeError:\n",
        "            print(f\"  - FAILED to decode JSON for concept: '{concept}'\")\n",
        "            continue\n",
        "\n",
        "    print(\"Generated Questions (JSON objects):\", questions)\n",
        "    return {\"quiz_questions\": questions}\n",
        "\n",
        "# --- Node: Format the Final JSON Output ---\n",
        "def format_quiz_json(state):\n",
        "    print(\"---NODE: Formatting Final JSON---\")\n",
        "    questions = state[\"quiz_questions\"]\n",
        "    formatted_json = json.dumps(questions, indent=2)\n",
        "    return {\"formatted_quiz_json\": formatted_json}"
      ],
      "metadata": {
        "id": "k0IK7Nxy71jV"
      },
      "execution_count": null,
      "outputs": []
    },
    {
      "cell_type": "code",
      "source": [
        "workflow = StateGraph(QuizGenerationState)\n",
        "\n",
        "workflow.add_node(\"identify_key_concepts\", identify_key_concepts)\n",
        "workflow.add_node(\"generate_questions\", generate_questions)\n",
        "workflow.add_node(\"format_quiz_json\", format_quiz_json)\n",
        "\n",
        "workflow.set_entry_point(\"identify_key_concepts\")\n",
        "workflow.add_edge(\"identify_key_concepts\", \"generate_questions\")\n",
        "workflow.add_edge(\"generate_questions\", \"format_quiz_json\")\n",
        "workflow.add_edge(\"format_quiz_json\", END)\n",
        "\n",
        "app = workflow.compile()"
      ],
      "metadata": {
        "id": "Ih5KIWdC8HPU"
      },
      "execution_count": null,
      "outputs": []
    },
    {
      "cell_type": "code",
      "source": [
        "app"
      ],
      "metadata": {
        "colab": {
          "base_uri": "https://localhost:8080/",
          "height": 449
        },
        "id": "qaR3k3Gs8NIE",
        "outputId": "3a218601-23b3-48a2-d8ca-1326373e8fb4"
      },
      "execution_count": null,
      "outputs": [
        {
          "output_type": "execute_result",
          "data": {
            "text/plain": [
              "<langgraph.graph.state.CompiledStateGraph object at 0x79e04ddc4da0>"
            ],
            "image/png": "[encoded data removed]"
          },
          "metadata": {},
          "execution_count": 9
        }
      ]
    },
    {
      "cell_type": "code",
      "source": [
        "print(\"--- RUNNING QUIZ GENERATION AGENT ---\")\n",
        "inputs = {\"content_text\": course_content_text}\n",
        "result = app.invoke(inputs)\n",
        "\n",
        "print(\"\\n\\n================================\\n\")\n",
        "print(\"--- FINAL GENERATED QUIZ (JSON) ---\")\n",
        "print(result['formatted_quiz_json'])"
      ],
      "metadata": {
        "colab": {
          "base_uri": "https://localhost:8080/"
        },
        "id": "wTRx8VZR8N9E",
        "outputId": "3bf57977-61f9-449a-eb88-24a541ac6bca"
      },
      "execution_count": null,
      "outputs": [
        {
          "output_type": "stream",
          "name": "stdout",
          "text": [
            "--- RUNNING QUIZ GENERATION AGENT ---\n",
            "---NODE: Identifying Key Concepts---\n",
            "Identified Concepts: ['The Solar System consists of the Sun and all objects gravitationally bound to it including eight planets dwarf planets and small bodies', 'Planet classification: inner terrestrial planets (Mercury Venus Earth Mars) have solid rocky surfaces; gas giants (Jupiter Saturn) are mainly hydrogen and helium; ice giants (Uranus Neptune) are rich in volatiles like water ammonia and methane', 'Mars appears red due to iron oxide on its surface and has two moons Phobos and Deimos', 'Jupiter is the most massive planet—over twice the combined mass of all other planets—and features the Great Red Spot a storm persisting for centuries']\n",
            "---NODE: Generating Quiz Questions---\n",
            "  - Generating question for concept: 'The Solar System consists of the Sun and all objects gravitationally bound to it including eight planets dwarf planets and small bodies'\n",
            "  - Generating question for concept: 'Planet classification: inner terrestrial planets (Mercury Venus Earth Mars) have solid rocky surfaces; gas giants (Jupiter Saturn) are mainly hydrogen and helium; ice giants (Uranus Neptune) are rich in volatiles like water ammonia and methane'\n",
            "  - Generating question for concept: 'Mars appears red due to iron oxide on its surface and has two moons Phobos and Deimos'\n",
            "  - Generating question for concept: 'Jupiter is the most massive planet—over twice the combined mass of all other planets—and features the Great Red Spot a storm persisting for centuries'\n",
            "Generated Questions (JSON objects): [{'question': 'Which statement most accurately describes what the Solar System includes?', 'options': ['The Sun and all objects gravitationally bound to it, including the eight planets, dwarf planets, and small Solar System bodies.', 'Only the Sun and the eight major planets, excluding dwarf planets and other small bodies.', 'The Sun, the eight planets, and all comets, but not asteroids or dwarf planets.', 'The Sun together with just the four inner terrestrial planets (Mercury, Venus, Earth, and Mars).'], 'answer': 'The Sun and all objects gravitationally bound to it, including the eight planets, dwarf planets, and small Solar System bodies.'}, {'question': 'Which of the following correctly matches a planet with its classification based on composition as described in the course content?', 'options': ['Uranus – gas giant', 'Mars – ice giant', 'Jupiter – gas giant', 'Venus – ice giant'], 'answer': 'Jupiter – gas giant'}, {'question': 'Which statement accurately describes Mars according to the course material?', 'options': ['Mars appears red because of iron oxide on its surface and it has two moons named Phobos and Deimos.', 'Mars appears blue due to atmospheric scattering and has a single moon called Luna.', 'Mars appears red because of volcanic gases and has three moons: Phobos, Deimos, and Europa.', 'Mars appears green because of chlorophyll-like minerals and has no natural moons.'], 'answer': 'Mars appears red because of iron oxide on its surface and it has two moons named Phobos and Deimos.'}, {'question': 'Which of the following statements about Jupiter is correct according to the course content?', 'options': ['Jupiter is the most massive planet, with a mass more than twice the combined mass of all the other planets, and it hosts the Great Red Spot, a storm that has lasted for centuries.', 'Jupiter is the second most massive planet after Saturn, and its Great Red Spot is a temporary cloud formation that lasts only a few weeks.', \"Jupiter's mass is roughly equal to the combined mass of the inner terrestrial planets, and its Great Red Spot is a solid surface feature like a volcano.\", 'Jupiter is less massive than the ice giants Uranus and Neptune, and the Great Red Spot is a region of intense magnetic activity rather than a storm.'], 'answer': 'Jupiter is the most massive planet, with a mass more than twice the combined mass of all the other planets, and it hosts the Great Red Spot, a storm that has lasted for centuries.'}]\n",
            "---NODE: Formatting Final JSON---\n",
            "\n",
            "\n",
            "================================\n",
            "\n",
            "--- FINAL GENERATED QUIZ (JSON) ---\n",
            "[\n",
            "  {\n",
            "    \"question\": \"Which statement most accurately describes what the Solar System includes?\",\n",
            "    \"options\": [\n",
            "      \"The Sun and all objects gravitationally bound to it, including the eight planets, dwarf planets, and small Solar System bodies.\",\n",
            "      \"Only the Sun and the eight major planets, excluding dwarf planets and other small bodies.\",\n",
            "      \"The Sun, the eight planets, and all comets, but not asteroids or dwarf planets.\",\n",
            "      \"The Sun together with just the four inner terrestrial planets (Mercury, Venus, Earth, and Mars).\"\n",
            "    ],\n",
            "    \"answer\": \"The Sun and all objects gravitationally bound to it, including the eight planets, dwarf planets, and small Solar System bodies.\"\n",
            "  },\n",
            "  {\n",
            "    \"question\": \"Which of the following correctly matches a planet with its classification based on composition as described in the course content?\",\n",
            "    \"options\": [\n",
            "      \"Uranus \\u2013 gas giant\",\n",
            "      \"Mars \\u2013 ice giant\",\n",
            "      \"Jupiter \\u2013 gas giant\",\n",
            "      \"Venus \\u2013 ice giant\"\n",
            "    ],\n",
            "    \"answer\": \"Jupiter \\u2013 gas giant\"\n",
            "  },\n",
            "  {\n",
            "    \"question\": \"Which statement accurately describes Mars according to the course material?\",\n",
            "    \"options\": [\n",
            "      \"Mars appears red because of iron oxide on its surface and it has two moons named Phobos and Deimos.\",\n",
            "      \"Mars appears blue due to atmospheric scattering and has a single moon called Luna.\",\n",
            "      \"Mars appears red because of volcanic gases and has three moons: Phobos, Deimos, and Europa.\",\n",
            "      \"Mars appears green because of chlorophyll-like minerals and has no natural moons.\"\n",
            "    ],\n",
            "    \"answer\": \"Mars appears red because of iron oxide on its surface and it has two moons named Phobos and Deimos.\"\n",
            "  },\n",
            "  {\n",
            "    \"question\": \"Which of the following statements about Jupiter is correct according to the course content?\",\n",
            "    \"options\": [\n",
            "      \"Jupiter is the most massive planet, with a mass more than twice the combined mass of all the other planets, and it hosts the Great Red Spot, a storm that has lasted for centuries.\",\n",
            "      \"Jupiter is the second most massive planet after Saturn, and its Great Red Spot is a temporary cloud formation that lasts only a few weeks.\",\n",
            "      \"Jupiter's mass is roughly equal to the combined mass of the inner terrestrial planets, and its Great Red Spot is a solid surface feature like a volcano.\",\n",
            "      \"Jupiter is less massive than the ice giants Uranus and Neptune, and the Great Red Spot is a region of intense magnetic activity rather than a storm.\"\n",
            "    ],\n",
            "    \"answer\": \"Jupiter is the most massive planet, with a mass more than twice the combined mass of all the other planets, and it hosts the Great Red Spot, a storm that has lasted for centuries.\"\n",
            "  }\n",
            "]\n"
          ]
        }
      ]
    },
    {
      "cell_type": "code",
      "source": [],
      "metadata": {
        "id": "YO2HXwbA8R58"
      },
      "execution_count": null,
      "outputs": []
    }
  ]
}