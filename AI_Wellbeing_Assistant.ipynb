{
  "nbformat": 4,
  "nbformat_minor": 0,
  "metadata": {
    "colab": {
      "provenance": []
    },
    "kernelspec": {
      "name": "python3",
      "display_name": "Python 3"
    },
    "language_info": {
      "name": "python"
    }
  },
  "cells": [
    {
      "cell_type": "code",
      "execution_count": null,
      "metadata": {
        "colab": {
          "base_uri": "https://localhost:8080/"
        },
        "id": "cxL7C8z0Bngq",
        "outputId": "92962c5a-8a93-4def-d366-9c7494736935"
      },
      "outputs": [
        {
          "output_type": "stream",
          "name": "stdout",
          "text": [
            "\u001b[2K     \u001b[90m━━━━━━━━━━━━━━━━━━━━━━━━━━━━━━━━━━━━━━━━\u001b[0m \u001b[32m43.7/43.7 kB\u001b[0m \u001b[31m2.7 MB/s\u001b[0m eta \u001b[36m0:00:00\u001b[0m\n",
            "\u001b[2K   \u001b[90m━━━━━━━━━━━━━━━━━━━━━━━━━━━━━━━━━━━━━━━━\u001b[0m \u001b[32m2.5/2.5 MB\u001b[0m \u001b[31m30.8 MB/s\u001b[0m eta \u001b[36m0:00:00\u001b[0m\n",
            "\u001b[2K   \u001b[90m━━━━━━━━━━━━━━━━━━━━━━━━━━━━━━━━━━━━━━━━\u001b[0m \u001b[32m153.3/153.3 kB\u001b[0m \u001b[31m10.4 MB/s\u001b[0m eta \u001b[36m0:00:00\u001b[0m\n",
            "\u001b[2K   \u001b[90m━━━━━━━━━━━━━━━━━━━━━━━━━━━━━━━━━━━━━━━━\u001b[0m \u001b[32m131.4/131.4 kB\u001b[0m \u001b[31m9.0 MB/s\u001b[0m eta \u001b[36m0:00:00\u001b[0m\n",
            "\u001b[2K   \u001b[90m━━━━━━━━━━━━━━━━━━━━━━━━━━━━━━━━━━━━━━━━\u001b[0m \u001b[32m43.9/43.9 kB\u001b[0m \u001b[31m3.3 MB/s\u001b[0m eta \u001b[36m0:00:00\u001b[0m\n",
            "\u001b[2K   \u001b[90m━━━━━━━━━━━━━━━━━━━━━━━━━━━━━━━━━━━━━━━━\u001b[0m \u001b[32m52.0/52.0 kB\u001b[0m \u001b[31m3.2 MB/s\u001b[0m eta \u001b[36m0:00:00\u001b[0m\n",
            "\u001b[2K   \u001b[90m━━━━━━━━━━━━━━━━━━━━━━━━━━━━━━━━━━━━━━━━\u001b[0m \u001b[32m50.9/50.9 kB\u001b[0m \u001b[31m3.2 MB/s\u001b[0m eta \u001b[36m0:00:00\u001b[0m\n",
            "\u001b[2K   \u001b[90m━━━━━━━━━━━━━━━━━━━━━━━━━━━━━━━━━━━━━━━━\u001b[0m \u001b[32m216.7/216.7 kB\u001b[0m \u001b[31m13.6 MB/s\u001b[0m eta \u001b[36m0:00:00\u001b[0m\n",
            "\u001b[?25h"
          ]
        }
      ],
      "source": [
        "!pip install -qU langchain-groq langchain langchain-community langgraph"
      ]
    },
    {
      "cell_type": "code",
      "source": [
        "import os\n",
        "import json\n",
        "from google.colab import userdata\n",
        "from langchain_groq import ChatGroq\n",
        "from langgraph.graph import END, StateGraph\n",
        "from typing import TypedDict, Literal"
      ],
      "metadata": {
        "id": "KQOJsV1PBoM2"
      },
      "execution_count": null,
      "outputs": []
    },
    {
      "cell_type": "code",
      "source": [
        "os.environ[\"GROQ_API_KEY\"] = userdata.get('GROQ_API_KEY')\n",
        "llm = ChatGroq(temperature=0.8, model_name=\"openai/gpt-oss-120b\")"
      ],
      "metadata": {
        "id": "_8M-KNRtBvV1"
      },
      "execution_count": null,
      "outputs": []
    },
    {
      "cell_type": "code",
      "source": [
        "Intent = Literal[\"stress\", \"time_management\", \"motivation\", \"general_query\"]"
      ],
      "metadata": {
        "id": "rp2w33qvBzMu"
      },
      "execution_count": null,
      "outputs": []
    },
    {
      "cell_type": "code",
      "source": [
        "class WellbeingState(TypedDict):\n",
        "    student_input: str\n",
        "    classified_intent: Intent\n",
        "    agent_response: str\n",
        "\n",
        "# --- Node: Classify Intent ---\n",
        "def classify_intent(state):\n",
        "    print(\"---NODE: Classifying Intent---\")\n",
        "    student_input = state[\"student_input\"]\n",
        "\n",
        "    prompt = f\"\"\"\n",
        "    You are an expert at classifying the intent of a student's message in a wellbeing context.\n",
        "    Based on the user's message, classify it into one of the following categories:\n",
        "    - stress (feeling overwhelmed, anxious about exams, pressure)\n",
        "    - time_management (procrastinating, struggling to balance work, feeling disorganized)\n",
        "    - motivation (feeling down, lack of drive, feeling stuck)\n",
        "    - general_query (a simple question or greeting)\n",
        "\n",
        "    Respond with ONLY the category name.\n",
        "\n",
        "    User Message: \"{student_input}\"\n",
        "    Classification:\n",
        "    \"\"\"\n",
        "\n",
        "    response = llm.invoke(prompt)\n",
        "    intent = response.content.strip().lower()\n",
        "\n",
        "    if intent not in [\"stress\", \"time_management\", \"motivation\", \"general_query\"]:\n",
        "        intent = \"general_query\"\n",
        "\n",
        "    print(f\"  - Classified Intent: {intent}\")\n",
        "    return {\"classified_intent\": intent}\n",
        "\n",
        "# --- Node: Generate Strategy Response ---\n",
        "def generate_strategy_response(state):\n",
        "    print(\"---NODE: Generating Strategy Response---\")\n",
        "    student_input = state[\"student_input\"]\n",
        "    intent = state[\"classified_intent\"]\n",
        "\n",
        "    if intent == \"stress\":\n",
        "        strategy_prompt = \"Provide a simple, actionable mindfulness or breathing exercise (like the 4-7-8 technique or box breathing) that a student can do right now to calm their anxiety.\"\n",
        "    elif intent == \"time_management\":\n",
        "        strategy_prompt = \"Provide a simple, actionable time management technique (like the Pomodoro Technique or the 'Two-Minute Rule') that a student can use to get started on their work.\"\n",
        "    elif intent == \"motivation\":\n",
        "        strategy_prompt = \"Provide a simple, encouraging piece of advice focused on breaking down a large task into one single, small first step to help a student overcome a motivational block.\"\n",
        "    else: # general_query\n",
        "        strategy_prompt = \"Provide a warm, friendly, and open-ended greeting. Ask how you can help them today.\"\n",
        "\n",
        "    prompt = f\"\"\"\n",
        "    You are 'Aura', a confidential and supportive AI wellbeing assistant for the BrainFog LMS. Your tone is always calm, empathetic, and non-judgmental. You do not give medical advice.\n",
        "    A student has expressed a concern related to: {intent}.\n",
        "    Your task is to respond based on the following instruction: \"{strategy_prompt}\"\n",
        "\n",
        "    Keep your response concise (2-4 sentences). End by gently reassuring them that this conversation is a private and safe space.\n",
        "    \"\"\"\n",
        "\n",
        "    response = llm.invoke(prompt)\n",
        "    print(f\"  - Generated Response: {response.content}\")\n",
        "    return {\"agent_response\": response.content}\n"
      ],
      "metadata": {
        "id": "v8CCiIJTB2UV"
      },
      "execution_count": null,
      "outputs": []
    },
    {
      "cell_type": "code",
      "source": [
        "workflow = StateGraph(WellbeingState)\n",
        "\n",
        "workflow.add_node(\"classify_intent\", classify_intent)\n",
        "workflow.add_node(\"generate_strategy_response\", generate_strategy_response)\n",
        "\n",
        "workflow.set_entry_point(\"classify_intent\")\n",
        "workflow.add_edge(\"classify_intent\", \"generate_strategy_response\")\n",
        "workflow.add_edge(\"generate_strategy_response\", END)\n",
        "\n",
        "app = workflow.compile()"
      ],
      "metadata": {
        "id": "7wBrFzByDguF"
      },
      "execution_count": null,
      "outputs": []
    },
    {
      "cell_type": "code",
      "source": [
        "app"
      ],
      "metadata": {
        "colab": {
          "base_uri": "https://localhost:8080/",
          "height": 350
        },
        "id": "aDriarA7Djp-",
        "outputId": "b819e5fa-ffd5-4221-eaae-1488e6524540"
      },
      "execution_count": null,
      "outputs": [
        {
          "output_type": "execute_result",
          "data": {
            "text/plain": [
              "<langgraph.graph.state.CompiledStateGraph object at 0x79c1764c5910>"
            ],
            "image/png": "[encoded data removed]"
          },
          "metadata": {},
          "execution_count": 7
        }
      ]
    },
    {
      "cell_type": "code",
      "source": [
        "def run_test(student_input):\n",
        "    print(f\"--- RUNNING TEST ---\")\n",
        "    print(f\"Student Input: '{student_input}'\")\n",
        "    inputs = {\"student_input\": student_input}\n",
        "    result = app.invoke(inputs)\n",
        "    print(\"\\n---Final Response ---\")\n",
        "    print(result['agent_response'])\n",
        "    print(\"\\n================================\\n\")\n",
        "\n",
        "# --- Test Cases ---\n",
        "run_test(\"I have so many exams coming up, I'm freaking out and can't focus.\") # 'stress'\n",
        "run_test(\"I know I need to study for my history final but I just can't get started.\") #'time_management' or 'motivation'\n",
        "run_test(\"hey\") # general_query\n",
        "run_test(\"I'm feeling like giving up\") #motivation"
      ],
      "metadata": {
        "colab": {
          "base_uri": "https://localhost:8080/"
        },
        "id": "N6v0OvlvDkDt",
        "outputId": "f63adea8-a9ba-47d5-adcb-4f9a165b87a2"
      },
      "execution_count": null,
      "outputs": [
        {
          "output_type": "stream",
          "name": "stdout",
          "text": [
            "--- RUNNING TEST ---\n",
            "Student Input: 'I have so many exams coming up, I'm freaking out and can't focus.'\n",
            "---NODE: Classifying Intent---\n",
            "  - Classified Intent: stress\n",
            "---NODE: Generating Strategy Response---\n",
            "  - Generated Response: Try the 4‑7‑8 breathing technique: inhale quietly through your nose for a count of 4, hold the breath for a count of 7, then exhale slowly through your mouth for a count of 8; repeat this cycle three to four times. You can do it right where you are, letting each breath bring a little more calm. Remember, this space is private and safe for you to share how you feel.\n",
            "\n",
            "---Final Response ---\n",
            "Try the 4‑7‑8 breathing technique: inhale quietly through your nose for a count of 4, hold the breath for a count of 7, then exhale slowly through your mouth for a count of 8; repeat this cycle three to four times. You can do it right where you are, letting each breath bring a little more calm. Remember, this space is private and safe for you to share how you feel.\n",
            "\n",
            "================================\n",
            "\n",
            "--- RUNNING TEST ---\n",
            "Student Input: 'I know I need to study for my history final but I just can't get started.'\n",
            "---NODE: Classifying Intent---\n",
            "  - Classified Intent: motivation\n",
            "---NODE: Generating Strategy Response---\n",
            "  - Generated Response: Take a moment to pick just one tiny part of the task—perhaps opening the document, writing a single sentence, or gathering one resource—and commit to doing only that. Completing this small step often creates a gentle momentum that makes the rest feel more manageable. Remember, this is a private, safe space for you, and I’m here to support you.\n",
            "\n",
            "---Final Response ---\n",
            "Take a moment to pick just one tiny part of the task—perhaps opening the document, writing a single sentence, or gathering one resource—and commit to doing only that. Completing this small step often creates a gentle momentum that makes the rest feel more manageable. Remember, this is a private, safe space for you, and I’m here to support you.\n",
            "\n",
            "================================\n",
            "\n",
            "--- RUNNING TEST ---\n",
            "Student Input: 'hey'\n",
            "---NODE: Classifying Intent---\n",
            "  - Classified Intent: general_query\n",
            "---NODE: Generating Strategy Response---\n",
            "  - Generated Response: Hello! I'm glad you reached out today. How can I support you? Rest assured, this conversation is completely private and a safe space for you.\n",
            "\n",
            "---Final Response ---\n",
            "Hello! I'm glad you reached out today. How can I support you? Rest assured, this conversation is completely private and a safe space for you.\n",
            "\n",
            "================================\n",
            "\n",
            "--- RUNNING TEST ---\n",
            "Student Input: 'I'm feeling like giving up'\n",
            "---NODE: Classifying Intent---\n",
            "  - Classified Intent: motivation\n",
            "---NODE: Generating Strategy Response---\n",
            "  - Generated Response: Start by picking just one tiny part of the task—like opening the first document, writing a single sentence, or setting a five‑minute timer to gather your materials. When you finish that small step, you’ll often find the momentum to keep going. Remember, this is a private and safe space for you to share your thoughts.\n",
            "\n",
            "---Final Response ---\n",
            "Start by picking just one tiny part of the task—like opening the first document, writing a single sentence, or setting a five‑minute timer to gather your materials. When you finish that small step, you’ll often find the momentum to keep going. Remember, this is a private and safe space for you to share your thoughts.\n",
            "\n",
            "================================\n",
            "\n"
          ]
        }
      ]
    },
    {
      "cell_type": "code",
      "source": [],
      "metadata": {
        "id": "Cd9ohemMDu7f"
      },
      "execution_count": null,
      "outputs": []
    }
  ]
}